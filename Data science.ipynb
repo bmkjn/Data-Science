{
 "cells": [
  {
   "cell_type": "markdown",
   "id": "7ed59eb5",
   "metadata": {},
   "source": [
    "### Reversing"
   ]
  },
  {
   "cell_type": "code",
   "execution_count": 2,
   "id": "3b373a8b",
   "metadata": {},
   "outputs": [],
   "source": [
    "import numpy as np"
   ]
  },
  {
   "cell_type": "code",
   "execution_count": 2,
   "id": "7cfc19b5",
   "metadata": {},
   "outputs": [
    {
     "data": {
      "text/plain": [
       "array([ 1.        ,  1.18367347,  1.36734694,  1.55102041,  1.73469388,\n",
       "        1.91836735,  2.10204082,  2.28571429,  2.46938776,  2.65306122,\n",
       "        2.83673469,  3.02040816,  3.20408163,  3.3877551 ,  3.57142857,\n",
       "        3.75510204,  3.93877551,  4.12244898,  4.30612245,  4.48979592,\n",
       "        4.67346939,  4.85714286,  5.04081633,  5.2244898 ,  5.40816327,\n",
       "        5.59183673,  5.7755102 ,  5.95918367,  6.14285714,  6.32653061,\n",
       "        6.51020408,  6.69387755,  6.87755102,  7.06122449,  7.24489796,\n",
       "        7.42857143,  7.6122449 ,  7.79591837,  7.97959184,  8.16326531,\n",
       "        8.34693878,  8.53061224,  8.71428571,  8.89795918,  9.08163265,\n",
       "        9.26530612,  9.44897959,  9.63265306,  9.81632653, 10.        ])"
      ]
     },
     "execution_count": 2,
     "metadata": {},
     "output_type": "execute_result"
    }
   ],
   "source": [
    "np_arr = np.linspace(1,10)\n",
    "np_arr\n",
    "#linspace = equally spaced, 50 = default no of elements\n"
   ]
  },
  {
   "cell_type": "code",
   "execution_count": 3,
   "id": "cd95ff79",
   "metadata": {},
   "outputs": [
    {
     "data": {
      "text/plain": [
       "(50,)"
      ]
     },
     "execution_count": 3,
     "metadata": {},
     "output_type": "execute_result"
    }
   ],
   "source": [
    "np_arr.shape\n"
   ]
  },
  {
   "cell_type": "code",
   "execution_count": 10,
   "id": "35e81af1",
   "metadata": {},
   "outputs": [
    {
     "data": {
      "text/plain": [
       "array([16, 99,  8, 78, 30, 33, 20, 90,  2, 95])"
      ]
     },
     "execution_count": 10,
     "metadata": {},
     "output_type": "execute_result"
    }
   ],
   "source": [
    "np_arr = np.random.randint(1,100,10)\n",
    "np_arr"
   ]
  },
  {
   "cell_type": "code",
   "execution_count": 6,
   "id": "6f06f021",
   "metadata": {},
   "outputs": [
    {
     "data": {
      "text/plain": [
       "array([9, 8, 8, 7, 6, 5, 5, 4, 2, 2])"
      ]
     },
     "execution_count": 6,
     "metadata": {},
     "output_type": "execute_result"
    }
   ],
   "source": [
    "np_arr.sort()\n",
    "np_arr = np.flip(np_arr)\n",
    "np_arr"
   ]
  },
  {
   "cell_type": "code",
   "execution_count": null,
   "id": "c5ea3d21",
   "metadata": {},
   "outputs": [],
   "source": []
  },
  {
   "cell_type": "markdown",
   "id": "490a9b25",
   "metadata": {},
   "source": [
    "Reversing using slicing"
   ]
  },
  {
   "cell_type": "code",
   "execution_count": 11,
   "id": "8eb99250",
   "metadata": {},
   "outputs": [
    {
     "data": {
      "text/plain": [
       "array([33, 30, 78,  8])"
      ]
     },
     "execution_count": 11,
     "metadata": {},
     "output_type": "execute_result"
    }
   ],
   "source": [
    "np_arr[5:1:-1]"
   ]
  },
  {
   "cell_type": "code",
   "execution_count": 12,
   "id": "5abc0805",
   "metadata": {},
   "outputs": [
    {
     "data": {
      "text/plain": [
       "array([16, 99,  8, 78, 30, 33, 20, 90,  2, 95])"
      ]
     },
     "execution_count": 12,
     "metadata": {},
     "output_type": "execute_result"
    }
   ],
   "source": [
    "np_arr[:]"
   ]
  },
  {
   "cell_type": "code",
   "execution_count": 13,
   "id": "b72459df",
   "metadata": {},
   "outputs": [
    {
     "data": {
      "text/plain": [
       "array([95,  2, 90, 20, 33, 30, 78,  8, 99, 16])"
      ]
     },
     "execution_count": 13,
     "metadata": {},
     "output_type": "execute_result"
    }
   ],
   "source": [
    "np_arr[::-1]"
   ]
  },
  {
   "cell_type": "markdown",
   "id": "f0441d74",
   "metadata": {},
   "source": [
    "Reverse sort"
   ]
  },
  {
   "cell_type": "code",
   "execution_count": 16,
   "id": "60627c4f",
   "metadata": {},
   "outputs": [
    {
     "data": {
      "text/plain": [
       "[99, 95, 90, 78, 33, 30, 20, 16, 8, 2]"
      ]
     },
     "execution_count": 16,
     "metadata": {},
     "output_type": "execute_result"
    }
   ],
   "source": [
    "sorted(np_arr, reverse=True)"
   ]
  },
  {
   "cell_type": "markdown",
   "id": "cce9906c",
   "metadata": {},
   "source": [
    "### more mathematical functions"
   ]
  },
  {
   "cell_type": "code",
   "execution_count": 19,
   "id": "59e12d53",
   "metadata": {},
   "outputs": [
    {
     "data": {
      "text/plain": [
       "array([6.95191968, 1.75783622, 3.04087357, 1.0181094 , 5.64782545,\n",
       "       3.16758824, 5.89645411, 4.0406616 , 6.11591667, 8.94750315])"
      ]
     },
     "execution_count": 19,
     "metadata": {},
     "output_type": "execute_result"
    }
   ],
   "source": [
    "numpyarr = np.random.uniform(1,10, size=10)\n",
    "numpyarr"
   ]
  },
  {
   "cell_type": "code",
   "execution_count": 20,
   "id": "4153a5df",
   "metadata": {},
   "outputs": [
    {
     "data": {
      "text/plain": [
       "array([6., 1., 3., 1., 5., 3., 5., 4., 6., 8.])"
      ]
     },
     "execution_count": 20,
     "metadata": {},
     "output_type": "execute_result"
    }
   ],
   "source": [
    "# floor function\n",
    "np.floor(numpyarr)"
   ]
  },
  {
   "cell_type": "code",
   "execution_count": 21,
   "id": "8807bcdd",
   "metadata": {},
   "outputs": [
    {
     "data": {
      "text/plain": [
       "array([7., 2., 4., 2., 6., 4., 6., 5., 7., 9.])"
      ]
     },
     "execution_count": 21,
     "metadata": {},
     "output_type": "execute_result"
    }
   ],
   "source": [
    "np.ceil(numpyarr)"
   ]
  },
  {
   "cell_type": "code",
   "execution_count": 22,
   "id": "1887aa39",
   "metadata": {},
   "outputs": [
    {
     "data": {
      "text/plain": [
       "array([1.04515416e+03, 5.79987416e+00, 2.09235133e+01, 2.76795671e+00,\n",
       "       2.83673931e+02, 2.37501357e+01, 3.63745377e+02, 5.68639514e+01,\n",
       "       4.53011118e+02, 7.68867043e+03])"
      ]
     },
     "execution_count": 22,
     "metadata": {},
     "output_type": "execute_result"
    }
   ],
   "source": [
    "# e value \n",
    "np.exp(numpyarr)"
   ]
  },
  {
   "cell_type": "markdown",
   "id": "dc8efe41",
   "metadata": {},
   "source": [
    "### Shape manipulation functions"
   ]
  },
  {
   "cell_type": "code",
   "execution_count": 25,
   "id": "904a2481",
   "metadata": {},
   "outputs": [
    {
     "data": {
      "text/plain": [
       "array([ 2,  8, 16, 20, 30, 33, 78, 90, 95, 99])"
      ]
     },
     "execution_count": 25,
     "metadata": {},
     "output_type": "execute_result"
    }
   ],
   "source": [
    "np_arr"
   ]
  },
  {
   "cell_type": "code",
   "execution_count": 31,
   "id": "2e21c688",
   "metadata": {},
   "outputs": [
    {
     "name": "stdout",
     "output_type": "stream",
     "text": [
      "10\n",
      "(10,)\n",
      "1\n"
     ]
    }
   ],
   "source": [
    "print(np_arr.size)\n",
    "print(np_arr.shape)\n",
    "print(np_arr.ndim)"
   ]
  },
  {
   "cell_type": "code",
   "execution_count": 56,
   "id": "f46d4d1a",
   "metadata": {},
   "outputs": [
    {
     "data": {
      "text/plain": [
       "array([[ 2,  8],\n",
       "       [16, 20],\n",
       "       [30, 33],\n",
       "       [78, 90],\n",
       "       [95, 99]])"
      ]
     },
     "execution_count": 56,
     "metadata": {},
     "output_type": "execute_result"
    }
   ],
   "source": [
    "np_arr.reshape(5,2)"
   ]
  },
  {
   "cell_type": "code",
   "execution_count": 54,
   "id": "ac2b1573",
   "metadata": {},
   "outputs": [
    {
     "data": {
      "text/plain": [
       "array([[ 2,  8],\n",
       "       [16, 20],\n",
       "       [30, 33],\n",
       "       [78, 90],\n",
       "       [95, 99]])"
      ]
     },
     "execution_count": 54,
     "metadata": {},
     "output_type": "execute_result"
    }
   ],
   "source": [
    "np_arr_2d"
   ]
  },
  {
   "cell_type": "code",
   "execution_count": 57,
   "id": "d109ab17",
   "metadata": {},
   "outputs": [
    {
     "data": {
      "text/plain": [
       "array([ 2,  8, 16, 20, 30, 33, 78, 90, 95, 99])"
      ]
     },
     "execution_count": 57,
     "metadata": {},
     "output_type": "execute_result"
    }
   ],
   "source": [
    "np_arr"
   ]
  },
  {
   "cell_type": "code",
   "execution_count": 45,
   "id": "573639b8",
   "metadata": {},
   "outputs": [],
   "source": [
    "#pipelining\n",
    "num_3d = np.random.random(40).reshape(4,2,5)"
   ]
  },
  {
   "cell_type": "code",
   "execution_count": 46,
   "id": "83ca61f9",
   "metadata": {},
   "outputs": [
    {
     "data": {
      "text/plain": [
       "array([[[0.50876661, 0.41482683, 0.35183335, 0.12025033, 0.33154227],\n",
       "        [0.92587965, 0.19802098, 0.24200052, 0.44097781, 0.18186717]],\n",
       "\n",
       "       [[0.51316087, 0.7205466 , 0.80555548, 0.09640065, 0.40933508],\n",
       "        [0.40979361, 0.29645711, 0.79162392, 0.82808586, 0.27182337]],\n",
       "\n",
       "       [[0.60438111, 0.07572811, 0.35300188, 0.9279587 , 0.49170823],\n",
       "        [0.38269228, 0.84786506, 0.24116006, 0.62690222, 0.17350623]],\n",
       "\n",
       "       [[0.6572873 , 0.83840373, 0.58496622, 0.91124618, 0.33110082],\n",
       "        [0.92497565, 0.53654858, 0.64997305, 0.23641088, 0.34464817]]])"
      ]
     },
     "execution_count": 46,
     "metadata": {},
     "output_type": "execute_result"
    }
   ],
   "source": [
    "num_3d"
   ]
  },
  {
   "cell_type": "code",
   "execution_count": 48,
   "id": "61b0c3fb",
   "metadata": {},
   "outputs": [
    {
     "data": {
      "text/plain": [
       "array([ 2,  8, 16, 20, 30, 33, 78, 90, 95, 99])"
      ]
     },
     "execution_count": 48,
     "metadata": {},
     "output_type": "execute_result"
    }
   ],
   "source": [
    "# flattening\n",
    "np_arr_2d.flatten()"
   ]
  },
  {
   "cell_type": "code",
   "execution_count": 49,
   "id": "5ead3d9c",
   "metadata": {},
   "outputs": [
    {
     "data": {
      "text/plain": [
       "array([[ 2,  8],\n",
       "       [16, 20],\n",
       "       [30, 33],\n",
       "       [78, 90],\n",
       "       [95, 99]])"
      ]
     },
     "execution_count": 49,
     "metadata": {},
     "output_type": "execute_result"
    }
   ],
   "source": [
    "np_arr_2d"
   ]
  },
  {
   "cell_type": "code",
   "execution_count": 50,
   "id": "23f27f4e",
   "metadata": {},
   "outputs": [],
   "source": [
    "np_arr_2d.resize(2,5)"
   ]
  },
  {
   "cell_type": "code",
   "execution_count": 51,
   "id": "a363bde7",
   "metadata": {},
   "outputs": [
    {
     "data": {
      "text/plain": [
       "array([[ 2,  8, 16, 20, 30],\n",
       "       [33, 78, 90, 95, 99]])"
      ]
     },
     "execution_count": 51,
     "metadata": {},
     "output_type": "execute_result"
    }
   ],
   "source": [
    "np_arr_2d"
   ]
  },
  {
   "cell_type": "code",
   "execution_count": 52,
   "id": "e0904692",
   "metadata": {},
   "outputs": [
    {
     "data": {
      "text/plain": [
       "array([ 2,  8, 16, 20, 30, 33, 78, 90, 95, 99])"
      ]
     },
     "execution_count": 52,
     "metadata": {},
     "output_type": "execute_result"
    }
   ],
   "source": [
    "np_arr_2d.flatten()"
   ]
  },
  {
   "cell_type": "markdown",
   "id": "10ce045e",
   "metadata": {},
   "source": [
    "### interesting functions in numpy"
   ]
  },
  {
   "cell_type": "code",
   "execution_count": 58,
   "id": "07218a29",
   "metadata": {},
   "outputs": [
    {
     "data": {
      "text/plain": [
       "array([1., 1., 1., 1., 1.])"
      ]
     },
     "execution_count": 58,
     "metadata": {},
     "output_type": "execute_result"
    }
   ],
   "source": [
    "np.ones(5)"
   ]
  },
  {
   "cell_type": "code",
   "execution_count": 59,
   "id": "0b18198e",
   "metadata": {},
   "outputs": [
    {
     "data": {
      "text/plain": [
       "array([[1., 1.],\n",
       "       [1., 1.],\n",
       "       [1., 1.],\n",
       "       [1., 1.],\n",
       "       [1., 1.]])"
      ]
     },
     "execution_count": 59,
     "metadata": {},
     "output_type": "execute_result"
    }
   ],
   "source": [
    "np.ones((5,2))"
   ]
  },
  {
   "cell_type": "code",
   "execution_count": 64,
   "id": "474f83cb",
   "metadata": {},
   "outputs": [
    {
     "data": {
      "text/plain": [
       "array([[0., 0., 0., 0.],\n",
       "       [0., 0., 0., 0.],\n",
       "       [0., 0., 0., 0.],\n",
       "       [0., 0., 0., 0.]])"
      ]
     },
     "execution_count": 64,
     "metadata": {},
     "output_type": "execute_result"
    }
   ],
   "source": [
    "np.zeros((4,4))"
   ]
  },
  {
   "cell_type": "code",
   "execution_count": 65,
   "id": "dd33b338",
   "metadata": {},
   "outputs": [
    {
     "data": {
      "text/plain": [
       "array([1, 2, 3, 4])"
      ]
     },
     "execution_count": 65,
     "metadata": {},
     "output_type": "execute_result"
    }
   ],
   "source": [
    "arr = np.array([1,2,3,4])\n",
    "arr"
   ]
  },
  {
   "cell_type": "code",
   "execution_count": 66,
   "id": "a989234b",
   "metadata": {},
   "outputs": [
    {
     "data": {
      "text/plain": [
       "array([1, 2, 3, 4])"
      ]
     },
     "execution_count": 66,
     "metadata": {},
     "output_type": "execute_result"
    }
   ],
   "source": [
    "np.transpose(arr)"
   ]
  },
  {
   "cell_type": "markdown",
   "id": "5ad6e502",
   "metadata": {},
   "source": [
    "### Pandas "
   ]
  },
  {
   "cell_type": "code",
   "execution_count": 2,
   "id": "faefc6ff",
   "metadata": {},
   "outputs": [],
   "source": [
    "import numpy as np\n",
    "import pandas as pd"
   ]
  },
  {
   "cell_type": "code",
   "execution_count": 2,
   "id": "835a9f80",
   "metadata": {},
   "outputs": [
    {
     "data": {
      "text/plain": [
       "0    35\n",
       "1    44\n",
       "2    22\n",
       "dtype: int64"
      ]
     },
     "execution_count": 2,
     "metadata": {},
     "output_type": "execute_result"
    }
   ],
   "source": [
    "#using series\n",
    "array = pd.Series(np.array([35,44,22]))\n",
    "array"
   ]
  },
  {
   "cell_type": "code",
   "execution_count": 44,
   "id": "73b74bb5",
   "metadata": {},
   "outputs": [],
   "source": [
    "#using dict\n",
    "d = {'srk':4,'kajol':5, 'kiran':3}"
   ]
  },
  {
   "cell_type": "code",
   "execution_count": 45,
   "id": "2e4427d2",
   "metadata": {},
   "outputs": [
    {
     "data": {
      "text/plain": [
       "4"
      ]
     },
     "execution_count": 45,
     "metadata": {},
     "output_type": "execute_result"
    }
   ],
   "source": [
    "array2 = pd.Series(d)\n",
    "array2['srk']"
   ]
  },
  {
   "cell_type": "code",
   "execution_count": 16,
   "id": "4e6eb850",
   "metadata": {},
   "outputs": [
    {
     "data": {
      "text/plain": [
       "0    50\n",
       "1    50\n",
       "2    50\n",
       "3    50\n",
       "4    50\n",
       "5    50\n",
       "6    50\n",
       "7    50\n",
       "8    50\n",
       "9    50\n",
       "dtype: int64"
      ]
     },
     "execution_count": 16,
     "metadata": {},
     "output_type": "execute_result"
    }
   ],
   "source": [
    "#using scalar (single value)\n",
    "max_marks = pd.Series(np.random.randint(50,51,10))\n",
    "max_marks"
   ]
  },
  {
   "cell_type": "code",
   "execution_count": 17,
   "id": "a7a3b0a0",
   "metadata": {},
   "outputs": [
    {
     "data": {
      "text/plain": [
       "0    50\n",
       "1    50\n",
       "2    50\n",
       "3    50\n",
       "4    50\n",
       "5    50\n",
       "6    50\n",
       "7    50\n",
       "8    50\n",
       "9    50\n",
       "dtype: int64"
      ]
     },
     "execution_count": 17,
     "metadata": {},
     "output_type": "execute_result"
    }
   ],
   "source": [
    "max_marks2 = pd.Series([50]*10)\n",
    "max_marks2"
   ]
  },
  {
   "cell_type": "code",
   "execution_count": 20,
   "id": "8518a8c6",
   "metadata": {},
   "outputs": [
    {
     "data": {
      "text/plain": [
       "[50, 50]"
      ]
     },
     "execution_count": 20,
     "metadata": {},
     "output_type": "execute_result"
    }
   ],
   "source": [
    "list2 = [50]*2\n",
    "list2"
   ]
  },
  {
   "cell_type": "code",
   "execution_count": 42,
   "id": "0c9db81c",
   "metadata": {},
   "outputs": [
    {
     "data": {
      "text/plain": [
       "0    50\n",
       "1    50\n",
       "2    50\n",
       "3    50\n",
       "4    50\n",
       "5    50\n",
       "6    50\n",
       "7    50\n",
       "8    50\n",
       "9    50\n",
       "dtype: int64"
      ]
     },
     "execution_count": 42,
     "metadata": {},
     "output_type": "execute_result"
    }
   ],
   "source": [
    "max_marks3 = pd.Series(50 , index=range(10))\n",
    "max_marks3"
   ]
  },
  {
   "cell_type": "code",
   "execution_count": 48,
   "id": "e889c6d9",
   "metadata": {},
   "outputs": [
    {
     "data": {
      "text/plain": [
       "7"
      ]
     },
     "execution_count": 48,
     "metadata": {},
     "output_type": "execute_result"
    }
   ],
   "source": [
    "max_marks3 = pd.Series(range(10) , index=range(10,20))\n",
    "max_marks3[17]"
   ]
  },
  {
   "cell_type": "markdown",
   "id": "8a980e0c",
   "metadata": {},
   "source": [
    "### Trouble to access by 0 when index is labelled by integer"
   ]
  },
  {
   "cell_type": "code",
   "execution_count": 3,
   "id": "36f94618",
   "metadata": {},
   "outputs": [
    {
     "ename": "KeyError",
     "evalue": "0",
     "output_type": "error",
     "traceback": [
      "\u001b[0;31m---------------------------------------------------------------------------\u001b[0m",
      "\u001b[0;31mValueError\u001b[0m                                Traceback (most recent call last)",
      "File \u001b[0;32m/Library/Frameworks/Python.framework/Versions/3.11/lib/python3.11/site-packages/pandas/core/indexes/range.py:345\u001b[0m, in \u001b[0;36mRangeIndex.get_loc\u001b[0;34m(self, key)\u001b[0m\n\u001b[1;32m    344\u001b[0m \u001b[38;5;28;01mtry\u001b[39;00m:\n\u001b[0;32m--> 345\u001b[0m     \u001b[38;5;28;01mreturn\u001b[39;00m \u001b[38;5;28;43mself\u001b[39;49m\u001b[38;5;241;43m.\u001b[39;49m\u001b[43m_range\u001b[49m\u001b[38;5;241;43m.\u001b[39;49m\u001b[43mindex\u001b[49m\u001b[43m(\u001b[49m\u001b[43mnew_key\u001b[49m\u001b[43m)\u001b[49m\n\u001b[1;32m    346\u001b[0m \u001b[38;5;28;01mexcept\u001b[39;00m \u001b[38;5;167;01mValueError\u001b[39;00m \u001b[38;5;28;01mas\u001b[39;00m err:\n",
      "\u001b[0;31mValueError\u001b[0m: 0 is not in range",
      "\nThe above exception was the direct cause of the following exception:\n",
      "\u001b[0;31mKeyError\u001b[0m                                  Traceback (most recent call last)",
      "Cell \u001b[0;32mIn[3], line 2\u001b[0m\n\u001b[1;32m      1\u001b[0m max_marks3 \u001b[38;5;241m=\u001b[39m pd\u001b[38;5;241m.\u001b[39mSeries(\u001b[38;5;28mrange\u001b[39m(\u001b[38;5;241m10\u001b[39m) , index\u001b[38;5;241m=\u001b[39m\u001b[38;5;28mrange\u001b[39m(\u001b[38;5;241m10\u001b[39m,\u001b[38;5;241m20\u001b[39m))\n\u001b[0;32m----> 2\u001b[0m \u001b[43mmax_marks3\u001b[49m\u001b[43m[\u001b[49m\u001b[38;5;241;43m0\u001b[39;49m\u001b[43m]\u001b[49m\n",
      "File \u001b[0;32m/Library/Frameworks/Python.framework/Versions/3.11/lib/python3.11/site-packages/pandas/core/series.py:1007\u001b[0m, in \u001b[0;36mSeries.__getitem__\u001b[0;34m(self, key)\u001b[0m\n\u001b[1;32m   1004\u001b[0m     \u001b[38;5;28;01mreturn\u001b[39;00m \u001b[38;5;28mself\u001b[39m\u001b[38;5;241m.\u001b[39m_values[key]\n\u001b[1;32m   1006\u001b[0m \u001b[38;5;28;01melif\u001b[39;00m key_is_scalar:\n\u001b[0;32m-> 1007\u001b[0m     \u001b[38;5;28;01mreturn\u001b[39;00m \u001b[38;5;28;43mself\u001b[39;49m\u001b[38;5;241;43m.\u001b[39;49m\u001b[43m_get_value\u001b[49m\u001b[43m(\u001b[49m\u001b[43mkey\u001b[49m\u001b[43m)\u001b[49m\n\u001b[1;32m   1009\u001b[0m \u001b[38;5;28;01mif\u001b[39;00m is_hashable(key):\n\u001b[1;32m   1010\u001b[0m     \u001b[38;5;66;03m# Otherwise index.get_value will raise InvalidIndexError\u001b[39;00m\n\u001b[1;32m   1011\u001b[0m     \u001b[38;5;28;01mtry\u001b[39;00m:\n\u001b[1;32m   1012\u001b[0m         \u001b[38;5;66;03m# For labels that don't resolve as scalars like tuples and frozensets\u001b[39;00m\n",
      "File \u001b[0;32m/Library/Frameworks/Python.framework/Versions/3.11/lib/python3.11/site-packages/pandas/core/series.py:1116\u001b[0m, in \u001b[0;36mSeries._get_value\u001b[0;34m(self, label, takeable)\u001b[0m\n\u001b[1;32m   1113\u001b[0m     \u001b[38;5;28;01mreturn\u001b[39;00m \u001b[38;5;28mself\u001b[39m\u001b[38;5;241m.\u001b[39m_values[label]\n\u001b[1;32m   1115\u001b[0m \u001b[38;5;66;03m# Similar to Index.get_value, but we do not fall back to positional\u001b[39;00m\n\u001b[0;32m-> 1116\u001b[0m loc \u001b[38;5;241m=\u001b[39m \u001b[38;5;28;43mself\u001b[39;49m\u001b[38;5;241;43m.\u001b[39;49m\u001b[43mindex\u001b[49m\u001b[38;5;241;43m.\u001b[39;49m\u001b[43mget_loc\u001b[49m\u001b[43m(\u001b[49m\u001b[43mlabel\u001b[49m\u001b[43m)\u001b[49m\n\u001b[1;32m   1118\u001b[0m \u001b[38;5;28;01mif\u001b[39;00m is_integer(loc):\n\u001b[1;32m   1119\u001b[0m     \u001b[38;5;28;01mreturn\u001b[39;00m \u001b[38;5;28mself\u001b[39m\u001b[38;5;241m.\u001b[39m_values[loc]\n",
      "File \u001b[0;32m/Library/Frameworks/Python.framework/Versions/3.11/lib/python3.11/site-packages/pandas/core/indexes/range.py:347\u001b[0m, in \u001b[0;36mRangeIndex.get_loc\u001b[0;34m(self, key)\u001b[0m\n\u001b[1;32m    345\u001b[0m         \u001b[38;5;28;01mreturn\u001b[39;00m \u001b[38;5;28mself\u001b[39m\u001b[38;5;241m.\u001b[39m_range\u001b[38;5;241m.\u001b[39mindex(new_key)\n\u001b[1;32m    346\u001b[0m     \u001b[38;5;28;01mexcept\u001b[39;00m \u001b[38;5;167;01mValueError\u001b[39;00m \u001b[38;5;28;01mas\u001b[39;00m err:\n\u001b[0;32m--> 347\u001b[0m         \u001b[38;5;28;01mraise\u001b[39;00m \u001b[38;5;167;01mKeyError\u001b[39;00m(key) \u001b[38;5;28;01mfrom\u001b[39;00m \u001b[38;5;21;01merr\u001b[39;00m\n\u001b[1;32m    348\u001b[0m \u001b[38;5;28;01mif\u001b[39;00m \u001b[38;5;28misinstance\u001b[39m(key, Hashable):\n\u001b[1;32m    349\u001b[0m     \u001b[38;5;28;01mraise\u001b[39;00m \u001b[38;5;167;01mKeyError\u001b[39;00m(key)\n",
      "\u001b[0;31mKeyError\u001b[0m: 0"
     ]
    }
   ],
   "source": [
    "max_marks3 = pd.Series(range(10) , index=range(10,20))\n",
    "max_marks3[0]"
   ]
  },
  {
   "cell_type": "code",
   "execution_count": 50,
   "id": "60c19737",
   "metadata": {},
   "outputs": [
    {
     "data": {
      "text/plain": [
       "0"
      ]
     },
     "execution_count": 50,
     "metadata": {},
     "output_type": "execute_result"
    }
   ],
   "source": [
    "# resolve by iloc\n",
    "max_marks3.iloc[0]"
   ]
  },
  {
   "cell_type": "code",
   "execution_count": 47,
   "id": "18714bd0",
   "metadata": {},
   "outputs": [
    {
     "data": {
      "text/plain": [
       "3"
      ]
     },
     "execution_count": 47,
     "metadata": {},
     "output_type": "execute_result"
    }
   ],
   "source": [
    "# accessing elements in series\n",
    "array2 = pd.Series(d)\n",
    "array2[-1]"
   ]
  },
  {
   "cell_type": "code",
   "execution_count": 16,
   "id": "02ec7884",
   "metadata": {},
   "outputs": [
    {
     "data": {
      "text/plain": [
       "100    38\n",
       "101    39\n",
       "102    38\n",
       "103    31\n",
       "104    43\n",
       "105    41\n",
       "106    49\n",
       "107    40\n",
       "108    34\n",
       "109    30\n",
       "dtype: int64"
      ]
     },
     "execution_count": 16,
     "metadata": {},
     "output_type": "execute_result"
    }
   ],
   "source": [
    "# understading iloc and loc\n",
    "marks= pd.Series(np.random.randint(30,50,10), index=range(100,110))\n",
    "marks"
   ]
  },
  {
   "cell_type": "code",
   "execution_count": 17,
   "id": "f885a04d",
   "metadata": {},
   "outputs": [
    {
     "data": {
      "text/plain": [
       "38"
      ]
     },
     "execution_count": 17,
     "metadata": {},
     "output_type": "execute_result"
    }
   ],
   "source": [
    "marks[100]"
   ]
  },
  {
   "cell_type": "code",
   "execution_count": 26,
   "id": "bf81cb40",
   "metadata": {},
   "outputs": [
    {
     "data": {
      "text/plain": [
       "38"
      ]
     },
     "execution_count": 26,
     "metadata": {},
     "output_type": "execute_result"
    }
   ],
   "source": [
    "#index with implicit, natural indexing\n",
    "marks.iloc[0]"
   ]
  },
  {
   "cell_type": "code",
   "execution_count": 59,
   "id": "4b6dcbac",
   "metadata": {},
   "outputs": [
    {
     "data": {
      "text/plain": [
       "36"
      ]
     },
     "execution_count": 59,
     "metadata": {},
     "output_type": "execute_result"
    }
   ],
   "source": [
    "marks.loc[100]\n",
    "#made because sometimes keys and indices both are numbers, so you might call the data.\n",
    "# loc means value of the label\n",
    "# can't use this when label is string"
   ]
  },
  {
   "cell_type": "markdown",
   "id": "ea87e468",
   "metadata": {},
   "source": [
    "### Vectorizing operations in series"
   ]
  },
  {
   "cell_type": "code",
   "execution_count": 60,
   "id": "66704a2d",
   "metadata": {},
   "outputs": [
    {
     "name": "stdout",
     "output_type": "stream",
     "text": [
      "a    23.502390\n",
      "b    40.156533\n",
      "c    54.884396\n",
      "d          NaN\n",
      "e    46.853724\n",
      "f          NaN\n",
      "dtype: float64\n"
     ]
    }
   ],
   "source": [
    "s1 = pd.Series(np.random.uniform(10,30,5), index=['a','b','c','d','e'])\n",
    "s2 = pd.Series(np.random.uniform(10,30,5), index=['a','b','c','e','f'])\n",
    "print(s1+s2)"
   ]
  },
  {
   "cell_type": "code",
   "execution_count": 61,
   "id": "92b8ff63",
   "metadata": {},
   "outputs": [
    {
     "data": {
      "text/plain": [
       "nan"
      ]
     },
     "execution_count": 61,
     "metadata": {},
     "output_type": "execute_result"
    }
   ],
   "source": [
    "45 + np.nan"
   ]
  },
  {
   "cell_type": "markdown",
   "id": "f62a6b9d",
   "metadata": {},
   "source": [
    "### DataFrame"
   ]
  },
  {
   "cell_type": "code",
   "execution_count": 63,
   "id": "e46ec83a",
   "metadata": {},
   "outputs": [
    {
     "data": {
      "text/html": [
       "<div>\n",
       "<style scoped>\n",
       "    .dataframe tbody tr th:only-of-type {\n",
       "        vertical-align: middle;\n",
       "    }\n",
       "\n",
       "    .dataframe tbody tr th {\n",
       "        vertical-align: top;\n",
       "    }\n",
       "\n",
       "    .dataframe thead th {\n",
       "        text-align: right;\n",
       "    }\n",
       "</style>\n",
       "<table border=\"1\" class=\"dataframe\">\n",
       "  <thead>\n",
       "    <tr style=\"text-align: right;\">\n",
       "      <th></th>\n",
       "      <th>age</th>\n",
       "      <th>names</th>\n",
       "    </tr>\n",
       "  </thead>\n",
       "  <tbody>\n",
       "    <tr>\n",
       "      <th>0</th>\n",
       "      <td>39</td>\n",
       "      <td>student</td>\n",
       "    </tr>\n",
       "    <tr>\n",
       "      <th>1</th>\n",
       "      <td>35</td>\n",
       "      <td>student</td>\n",
       "    </tr>\n",
       "    <tr>\n",
       "      <th>2</th>\n",
       "      <td>43</td>\n",
       "      <td>student</td>\n",
       "    </tr>\n",
       "    <tr>\n",
       "      <th>3</th>\n",
       "      <td>21</td>\n",
       "      <td>student</td>\n",
       "    </tr>\n",
       "    <tr>\n",
       "      <th>4</th>\n",
       "      <td>53</td>\n",
       "      <td>student</td>\n",
       "    </tr>\n",
       "    <tr>\n",
       "      <th>5</th>\n",
       "      <td>50</td>\n",
       "      <td>student</td>\n",
       "    </tr>\n",
       "    <tr>\n",
       "      <th>6</th>\n",
       "      <td>63</td>\n",
       "      <td>student</td>\n",
       "    </tr>\n",
       "    <tr>\n",
       "      <th>7</th>\n",
       "      <td>29</td>\n",
       "      <td>student</td>\n",
       "    </tr>\n",
       "    <tr>\n",
       "      <th>8</th>\n",
       "      <td>30</td>\n",
       "      <td>student</td>\n",
       "    </tr>\n",
       "    <tr>\n",
       "      <th>9</th>\n",
       "      <td>35</td>\n",
       "      <td>student</td>\n",
       "    </tr>\n",
       "  </tbody>\n",
       "</table>\n",
       "</div>"
      ],
      "text/plain": [
       "   age    names\n",
       "0   39  student\n",
       "1   35  student\n",
       "2   43  student\n",
       "3   21  student\n",
       "4   53  student\n",
       "5   50  student\n",
       "6   63  student\n",
       "7   29  student\n",
       "8   30  student\n",
       "9   35  student"
      ]
     },
     "execution_count": 63,
     "metadata": {},
     "output_type": "execute_result"
    }
   ],
   "source": [
    "df = pd.DataFrame({'age':np.random.randint(18,65,10), 'names':['student']*10})\n",
    "df\n",
    "# name is associated to column\n",
    "# no data type column\n",
    "# Inside df funcion call a dictionary w the individual column names and\n",
    "# in each column past a list of values\n",
    "# make list of values are equal in every column "
   ]
  },
  {
   "cell_type": "code",
   "execution_count": 84,
   "id": "216c898b",
   "metadata": {},
   "outputs": [
    {
     "data": {
      "text/html": [
       "<div>\n",
       "<style scoped>\n",
       "    .dataframe tbody tr th:only-of-type {\n",
       "        vertical-align: middle;\n",
       "    }\n",
       "\n",
       "    .dataframe tbody tr th {\n",
       "        vertical-align: top;\n",
       "    }\n",
       "\n",
       "    .dataframe thead th {\n",
       "        text-align: right;\n",
       "    }\n",
       "</style>\n",
       "<table border=\"1\" class=\"dataframe\">\n",
       "  <thead>\n",
       "    <tr style=\"text-align: right;\">\n",
       "      <th></th>\n",
       "      <th>age</th>\n",
       "      <th>names</th>\n",
       "    </tr>\n",
       "  </thead>\n",
       "  <tbody>\n",
       "    <tr>\n",
       "      <th>a</th>\n",
       "      <td>30</td>\n",
       "      <td>student</td>\n",
       "    </tr>\n",
       "    <tr>\n",
       "      <th>b</th>\n",
       "      <td>57</td>\n",
       "      <td>student</td>\n",
       "    </tr>\n",
       "    <tr>\n",
       "      <th>c</th>\n",
       "      <td>27</td>\n",
       "      <td>student</td>\n",
       "    </tr>\n",
       "    <tr>\n",
       "      <th>d</th>\n",
       "      <td>28</td>\n",
       "      <td>student</td>\n",
       "    </tr>\n",
       "    <tr>\n",
       "      <th>e</th>\n",
       "      <td>27</td>\n",
       "      <td>student</td>\n",
       "    </tr>\n",
       "    <tr>\n",
       "      <th>f</th>\n",
       "      <td>55</td>\n",
       "      <td>student</td>\n",
       "    </tr>\n",
       "    <tr>\n",
       "      <th>g</th>\n",
       "      <td>50</td>\n",
       "      <td>student</td>\n",
       "    </tr>\n",
       "    <tr>\n",
       "      <th>h</th>\n",
       "      <td>47</td>\n",
       "      <td>student</td>\n",
       "    </tr>\n",
       "    <tr>\n",
       "      <th>i</th>\n",
       "      <td>60</td>\n",
       "      <td>student</td>\n",
       "    </tr>\n",
       "    <tr>\n",
       "      <th>j</th>\n",
       "      <td>49</td>\n",
       "      <td>student</td>\n",
       "    </tr>\n",
       "  </tbody>\n",
       "</table>\n",
       "</div>"
      ],
      "text/plain": [
       "   age    names\n",
       "a   30  student\n",
       "b   57  student\n",
       "c   27  student\n",
       "d   28  student\n",
       "e   27  student\n",
       "f   55  student\n",
       "g   50  student\n",
       "h   47  student\n",
       "i   60  student\n",
       "j   49  student"
      ]
     },
     "execution_count": 84,
     "metadata": {},
     "output_type": "execute_result"
    }
   ],
   "source": [
    "df2 = pd.DataFrame({'age':np.random.randint(18,65,10),\n",
    "                   'names':['student']*10},\n",
    "                  index=list('abcdefghij'))\n",
    "df2"
   ]
  },
  {
   "cell_type": "code",
   "execution_count": 68,
   "id": "f9d46447",
   "metadata": {},
   "outputs": [
    {
     "data": {
      "text/html": [
       "<div>\n",
       "<style scoped>\n",
       "    .dataframe tbody tr th:only-of-type {\n",
       "        vertical-align: middle;\n",
       "    }\n",
       "\n",
       "    .dataframe tbody tr th {\n",
       "        vertical-align: top;\n",
       "    }\n",
       "\n",
       "    .dataframe thead th {\n",
       "        text-align: right;\n",
       "    }\n",
       "</style>\n",
       "<table border=\"1\" class=\"dataframe\">\n",
       "  <thead>\n",
       "    <tr style=\"text-align: right;\">\n",
       "      <th></th>\n",
       "      <th>age</th>\n",
       "      <th>names</th>\n",
       "    </tr>\n",
       "  </thead>\n",
       "  <tbody>\n",
       "    <tr>\n",
       "      <th>100</th>\n",
       "      <td>44</td>\n",
       "      <td>student</td>\n",
       "    </tr>\n",
       "    <tr>\n",
       "      <th>101</th>\n",
       "      <td>62</td>\n",
       "      <td>student</td>\n",
       "    </tr>\n",
       "    <tr>\n",
       "      <th>102</th>\n",
       "      <td>24</td>\n",
       "      <td>student</td>\n",
       "    </tr>\n",
       "    <tr>\n",
       "      <th>103</th>\n",
       "      <td>57</td>\n",
       "      <td>student</td>\n",
       "    </tr>\n",
       "    <tr>\n",
       "      <th>104</th>\n",
       "      <td>21</td>\n",
       "      <td>student</td>\n",
       "    </tr>\n",
       "    <tr>\n",
       "      <th>105</th>\n",
       "      <td>33</td>\n",
       "      <td>student</td>\n",
       "    </tr>\n",
       "    <tr>\n",
       "      <th>106</th>\n",
       "      <td>28</td>\n",
       "      <td>student</td>\n",
       "    </tr>\n",
       "    <tr>\n",
       "      <th>107</th>\n",
       "      <td>38</td>\n",
       "      <td>student</td>\n",
       "    </tr>\n",
       "    <tr>\n",
       "      <th>108</th>\n",
       "      <td>19</td>\n",
       "      <td>student</td>\n",
       "    </tr>\n",
       "    <tr>\n",
       "      <th>109</th>\n",
       "      <td>25</td>\n",
       "      <td>student</td>\n",
       "    </tr>\n",
       "  </tbody>\n",
       "</table>\n",
       "</div>"
      ],
      "text/plain": [
       "     age    names\n",
       "100   44  student\n",
       "101   62  student\n",
       "102   24  student\n",
       "103   57  student\n",
       "104   21  student\n",
       "105   33  student\n",
       "106   28  student\n",
       "107   38  student\n",
       "108   19  student\n",
       "109   25  student"
      ]
     },
     "execution_count": 68,
     "metadata": {},
     "output_type": "execute_result"
    }
   ],
   "source": [
    "df3 = pd.DataFrame({'age':np.random.randint(18,65,10),\n",
    "                   'names':['student']*10},\n",
    "                  index=range(100,110))\n",
    "df3"
   ]
  },
  {
   "cell_type": "markdown",
   "id": "f3497465",
   "metadata": {},
   "source": [
    "### DataFrame from dict"
   ]
  },
  {
   "cell_type": "code",
   "execution_count": 66,
   "id": "20b830cd",
   "metadata": {},
   "outputs": [
    {
     "data": {
      "text/html": [
       "<div>\n",
       "<style scoped>\n",
       "    .dataframe tbody tr th:only-of-type {\n",
       "        vertical-align: middle;\n",
       "    }\n",
       "\n",
       "    .dataframe tbody tr th {\n",
       "        vertical-align: top;\n",
       "    }\n",
       "\n",
       "    .dataframe thead th {\n",
       "        text-align: right;\n",
       "    }\n",
       "</style>\n",
       "<table border=\"1\" class=\"dataframe\">\n",
       "  <thead>\n",
       "    <tr style=\"text-align: right;\">\n",
       "      <th></th>\n",
       "      <th>London</th>\n",
       "      <th>Beijing</th>\n",
       "    </tr>\n",
       "  </thead>\n",
       "  <tbody>\n",
       "    <tr>\n",
       "      <th>2012</th>\n",
       "      <td>205</td>\n",
       "      <td>203</td>\n",
       "    </tr>\n",
       "    <tr>\n",
       "      <th>2008</th>\n",
       "      <td>206</td>\n",
       "      <td>204</td>\n",
       "    </tr>\n",
       "  </tbody>\n",
       "</table>\n",
       "</div>"
      ],
      "text/plain": [
       "      London  Beijing\n",
       "2012     205      203\n",
       "2008     206      204"
      ]
     },
     "execution_count": 66,
     "metadata": {},
     "output_type": "execute_result"
    }
   ],
   "source": [
    "olympic = pd.DataFrame({'London':{2012:205,2008:206},'Beijing':{2012:203,2008:204}})\n",
    "olympic\n",
    "# nan gets accomodated"
   ]
  },
  {
   "cell_type": "code",
   "execution_count": 70,
   "id": "bf0b1b37",
   "metadata": {},
   "outputs": [
    {
     "data": {
      "text/plain": [
       "100    44\n",
       "101    62\n",
       "102    24\n",
       "103    57\n",
       "104    21\n",
       "105    33\n",
       "106    28\n",
       "107    38\n",
       "108    19\n",
       "109    25\n",
       "Name: age, dtype: int64"
      ]
     },
     "execution_count": 70,
     "metadata": {},
     "output_type": "execute_result"
    }
   ],
   "source": [
    "# access values\n",
    "df3.age\n",
    "# output in the form of series"
   ]
  },
  {
   "cell_type": "code",
   "execution_count": 4,
   "id": "b926a82b",
   "metadata": {},
   "outputs": [
    {
     "data": {
      "text/html": [
       "<div>\n",
       "<style scoped>\n",
       "    .dataframe tbody tr th:only-of-type {\n",
       "        vertical-align: middle;\n",
       "    }\n",
       "\n",
       "    .dataframe tbody tr th {\n",
       "        vertical-align: top;\n",
       "    }\n",
       "\n",
       "    .dataframe thead th {\n",
       "        text-align: right;\n",
       "    }\n",
       "</style>\n",
       "<table border=\"1\" class=\"dataframe\">\n",
       "  <thead>\n",
       "    <tr style=\"text-align: right;\">\n",
       "      <th></th>\n",
       "      <th>age</th>\n",
       "      <th>names</th>\n",
       "      <th>rollno</th>\n",
       "    </tr>\n",
       "  </thead>\n",
       "  <tbody>\n",
       "    <tr>\n",
       "      <th>0</th>\n",
       "      <td>42</td>\n",
       "      <td>student</td>\n",
       "      <td>110</td>\n",
       "    </tr>\n",
       "    <tr>\n",
       "      <th>1</th>\n",
       "      <td>59</td>\n",
       "      <td>student</td>\n",
       "      <td>111</td>\n",
       "    </tr>\n",
       "    <tr>\n",
       "      <th>2</th>\n",
       "      <td>29</td>\n",
       "      <td>student</td>\n",
       "      <td>112</td>\n",
       "    </tr>\n",
       "    <tr>\n",
       "      <th>3</th>\n",
       "      <td>53</td>\n",
       "      <td>student</td>\n",
       "      <td>113</td>\n",
       "    </tr>\n",
       "    <tr>\n",
       "      <th>4</th>\n",
       "      <td>62</td>\n",
       "      <td>student</td>\n",
       "      <td>114</td>\n",
       "    </tr>\n",
       "    <tr>\n",
       "      <th>5</th>\n",
       "      <td>59</td>\n",
       "      <td>student</td>\n",
       "      <td>115</td>\n",
       "    </tr>\n",
       "    <tr>\n",
       "      <th>6</th>\n",
       "      <td>34</td>\n",
       "      <td>student</td>\n",
       "      <td>116</td>\n",
       "    </tr>\n",
       "    <tr>\n",
       "      <th>7</th>\n",
       "      <td>51</td>\n",
       "      <td>student</td>\n",
       "      <td>117</td>\n",
       "    </tr>\n",
       "    <tr>\n",
       "      <th>8</th>\n",
       "      <td>54</td>\n",
       "      <td>student</td>\n",
       "      <td>118</td>\n",
       "    </tr>\n",
       "    <tr>\n",
       "      <th>9</th>\n",
       "      <td>63</td>\n",
       "      <td>student</td>\n",
       "      <td>119</td>\n",
       "    </tr>\n",
       "  </tbody>\n",
       "</table>\n",
       "</div>"
      ],
      "text/plain": [
       "   age    names  rollno\n",
       "0   42  student     110\n",
       "1   59  student     111\n",
       "2   29  student     112\n",
       "3   53  student     113\n",
       "4   62  student     114\n",
       "5   59  student     115\n",
       "6   34  student     116\n",
       "7   51  student     117\n",
       "8   54  student     118\n",
       "9   63  student     119"
      ]
     },
     "execution_count": 4,
     "metadata": {},
     "output_type": "execute_result"
    }
   ],
   "source": [
    "df = pd.DataFrame({'age':np.random.randint(18,65,10), 'names':['student']*10, 'rollno':range(110,120)})\n",
    "df"
   ]
  },
  {
   "cell_type": "code",
   "execution_count": 5,
   "id": "8d5c13e7",
   "metadata": {},
   "outputs": [
    {
     "data": {
      "text/html": [
       "<div>\n",
       "<style scoped>\n",
       "    .dataframe tbody tr th:only-of-type {\n",
       "        vertical-align: middle;\n",
       "    }\n",
       "\n",
       "    .dataframe tbody tr th {\n",
       "        vertical-align: top;\n",
       "    }\n",
       "\n",
       "    .dataframe thead th {\n",
       "        text-align: right;\n",
       "    }\n",
       "</style>\n",
       "<table border=\"1\" class=\"dataframe\">\n",
       "  <thead>\n",
       "    <tr style=\"text-align: right;\">\n",
       "      <th></th>\n",
       "      <th>age</th>\n",
       "      <th>rollno</th>\n",
       "    </tr>\n",
       "  </thead>\n",
       "  <tbody>\n",
       "    <tr>\n",
       "      <th>0</th>\n",
       "      <td>42</td>\n",
       "      <td>110</td>\n",
       "    </tr>\n",
       "    <tr>\n",
       "      <th>1</th>\n",
       "      <td>59</td>\n",
       "      <td>111</td>\n",
       "    </tr>\n",
       "    <tr>\n",
       "      <th>2</th>\n",
       "      <td>29</td>\n",
       "      <td>112</td>\n",
       "    </tr>\n",
       "    <tr>\n",
       "      <th>3</th>\n",
       "      <td>53</td>\n",
       "      <td>113</td>\n",
       "    </tr>\n",
       "    <tr>\n",
       "      <th>4</th>\n",
       "      <td>62</td>\n",
       "      <td>114</td>\n",
       "    </tr>\n",
       "    <tr>\n",
       "      <th>5</th>\n",
       "      <td>59</td>\n",
       "      <td>115</td>\n",
       "    </tr>\n",
       "    <tr>\n",
       "      <th>6</th>\n",
       "      <td>34</td>\n",
       "      <td>116</td>\n",
       "    </tr>\n",
       "    <tr>\n",
       "      <th>7</th>\n",
       "      <td>51</td>\n",
       "      <td>117</td>\n",
       "    </tr>\n",
       "    <tr>\n",
       "      <th>8</th>\n",
       "      <td>54</td>\n",
       "      <td>118</td>\n",
       "    </tr>\n",
       "    <tr>\n",
       "      <th>9</th>\n",
       "      <td>63</td>\n",
       "      <td>119</td>\n",
       "    </tr>\n",
       "  </tbody>\n",
       "</table>\n",
       "</div>"
      ],
      "text/plain": [
       "   age  rollno\n",
       "0   42     110\n",
       "1   59     111\n",
       "2   29     112\n",
       "3   53     113\n",
       "4   62     114\n",
       "5   59     115\n",
       "6   34     116\n",
       "7   51     117\n",
       "8   54     118\n",
       "9   63     119"
      ]
     },
     "execution_count": 5,
     "metadata": {},
     "output_type": "execute_result"
    }
   ],
   "source": [
    "# subset of df\n",
    "# pass the column names as a list rather than passing dimensions\n",
    "df[['age','rollno']]"
   ]
  },
  {
   "cell_type": "code",
   "execution_count": 8,
   "id": "d4c0f4b0",
   "metadata": {},
   "outputs": [
    {
     "data": {
      "text/plain": [
       "age            54\n",
       "names     student\n",
       "rollno        118\n",
       "Name: 8, dtype: object"
      ]
     },
     "execution_count": 8,
     "metadata": {},
     "output_type": "execute_result"
    }
   ],
   "source": [
    "# how to access rows\n",
    "df.loc[8]"
   ]
  },
  {
   "cell_type": "markdown",
   "id": "19064567",
   "metadata": {},
   "source": [
    "Practice federal data"
   ]
  },
  {
   "cell_type": "code",
   "execution_count": 10,
   "id": "eea140db",
   "metadata": {},
   "outputs": [
    {
     "data": {
      "text/html": [
       "<div>\n",
       "<style scoped>\n",
       "    .dataframe tbody tr th:only-of-type {\n",
       "        vertical-align: middle;\n",
       "    }\n",
       "\n",
       "    .dataframe tbody tr th {\n",
       "        vertical-align: top;\n",
       "    }\n",
       "\n",
       "    .dataframe thead th {\n",
       "        text-align: right;\n",
       "    }\n",
       "</style>\n",
       "<table border=\"1\" class=\"dataframe\">\n",
       "  <thead>\n",
       "    <tr style=\"text-align: right;\">\n",
       "      <th></th>\n",
       "      <th>UPDATED</th>\n",
       "      <th>ENTRY_DATE</th>\n",
       "      <th>EVENT_LCL_DATE</th>\n",
       "      <th>EVENT_LCL_TIME</th>\n",
       "      <th>LOC_CITY_NAME</th>\n",
       "      <th>LOC_STATE_NAME</th>\n",
       "      <th>LOC_CNTRY_NAME</th>\n",
       "      <th>RMK_TEXT</th>\n",
       "      <th>EVENT_TYPE_DESC</th>\n",
       "      <th>FSDO_DESC</th>\n",
       "      <th>...</th>\n",
       "      <th>PAX_INJ_NONE</th>\n",
       "      <th>PAX_INJ_MINOR</th>\n",
       "      <th>PAX_INJ_SERIOUS</th>\n",
       "      <th>PAX_INJ_FATAL</th>\n",
       "      <th>PAX_INJ_UNK</th>\n",
       "      <th>GRND_INJ_NONE</th>\n",
       "      <th>GRND_INJ_MINOR</th>\n",
       "      <th>GRND_INJ_SERIOUS</th>\n",
       "      <th>GRND_INJ_FATAL</th>\n",
       "      <th>GRND_INJ_UNK</th>\n",
       "    </tr>\n",
       "  </thead>\n",
       "  <tbody>\n",
       "    <tr>\n",
       "      <th>0</th>\n",
       "      <td>No</td>\n",
       "      <td>19-FEB-16</td>\n",
       "      <td>19-FEB-16</td>\n",
       "      <td>00:45:00Z</td>\n",
       "      <td>MARSHVILLE</td>\n",
       "      <td>North Carolina</td>\n",
       "      <td>NaN</td>\n",
       "      <td>AIRCRAFT CRASHED INTO TREES, THE 1 PERSON ON B...</td>\n",
       "      <td>Accident</td>\n",
       "      <td>FAA Charlotte FSDO-68</td>\n",
       "      <td>...</td>\n",
       "      <td>NaN</td>\n",
       "      <td>NaN</td>\n",
       "      <td>NaN</td>\n",
       "      <td>NaN</td>\n",
       "      <td>NaN</td>\n",
       "      <td>NaN</td>\n",
       "      <td>NaN</td>\n",
       "      <td>NaN</td>\n",
       "      <td>NaN</td>\n",
       "      <td>NaN</td>\n",
       "    </tr>\n",
       "    <tr>\n",
       "      <th>1</th>\n",
       "      <td>No</td>\n",
       "      <td>19-FEB-16</td>\n",
       "      <td>18-FEB-16</td>\n",
       "      <td>23:55:00Z</td>\n",
       "      <td>TAVERNIER</td>\n",
       "      <td>Florida</td>\n",
       "      <td>NaN</td>\n",
       "      <td>AIRCRAFT ON LANDING WENT OFF THE END OF THE RU...</td>\n",
       "      <td>Incident</td>\n",
       "      <td>FAA Miami FSDO-19</td>\n",
       "      <td>...</td>\n",
       "      <td>NaN</td>\n",
       "      <td>NaN</td>\n",
       "      <td>NaN</td>\n",
       "      <td>NaN</td>\n",
       "      <td>NaN</td>\n",
       "      <td>NaN</td>\n",
       "      <td>NaN</td>\n",
       "      <td>NaN</td>\n",
       "      <td>NaN</td>\n",
       "      <td>NaN</td>\n",
       "    </tr>\n",
       "    <tr>\n",
       "      <th>2</th>\n",
       "      <td>No</td>\n",
       "      <td>19-FEB-16</td>\n",
       "      <td>18-FEB-16</td>\n",
       "      <td>22:14:00Z</td>\n",
       "      <td>TRENTON</td>\n",
       "      <td>New Jersey</td>\n",
       "      <td>NaN</td>\n",
       "      <td>AIRCRAFT ON FINAL SUSTAINED A BIRD STRIKE, LAN...</td>\n",
       "      <td>Incident</td>\n",
       "      <td>FAA Philadelphia FSDO-17</td>\n",
       "      <td>...</td>\n",
       "      <td>NaN</td>\n",
       "      <td>NaN</td>\n",
       "      <td>NaN</td>\n",
       "      <td>NaN</td>\n",
       "      <td>NaN</td>\n",
       "      <td>NaN</td>\n",
       "      <td>NaN</td>\n",
       "      <td>NaN</td>\n",
       "      <td>NaN</td>\n",
       "      <td>NaN</td>\n",
       "    </tr>\n",
       "    <tr>\n",
       "      <th>3</th>\n",
       "      <td>No</td>\n",
       "      <td>19-FEB-16</td>\n",
       "      <td>18-FEB-16</td>\n",
       "      <td>17:10:00Z</td>\n",
       "      <td>ASHEVILLE</td>\n",
       "      <td>North Carolina</td>\n",
       "      <td>NaN</td>\n",
       "      <td>AIRCRAFT ON LANDING, GEAR COLLAPSED, ASHEVILLE...</td>\n",
       "      <td>Incident</td>\n",
       "      <td>FAA Charlotte FSDO-68</td>\n",
       "      <td>...</td>\n",
       "      <td>NaN</td>\n",
       "      <td>NaN</td>\n",
       "      <td>NaN</td>\n",
       "      <td>NaN</td>\n",
       "      <td>NaN</td>\n",
       "      <td>NaN</td>\n",
       "      <td>NaN</td>\n",
       "      <td>NaN</td>\n",
       "      <td>NaN</td>\n",
       "      <td>NaN</td>\n",
       "    </tr>\n",
       "    <tr>\n",
       "      <th>4</th>\n",
       "      <td>No</td>\n",
       "      <td>19-FEB-16</td>\n",
       "      <td>18-FEB-16</td>\n",
       "      <td>00:26:00Z</td>\n",
       "      <td>TALKEETNA</td>\n",
       "      <td>Alaska</td>\n",
       "      <td>NaN</td>\n",
       "      <td>AIRCRAFT ON LANDING, NOSE GEAR COLLAPSED, TALK...</td>\n",
       "      <td>Incident</td>\n",
       "      <td>FAA Anchorage FSDO-03</td>\n",
       "      <td>...</td>\n",
       "      <td>NaN</td>\n",
       "      <td>1.0</td>\n",
       "      <td>NaN</td>\n",
       "      <td>NaN</td>\n",
       "      <td>NaN</td>\n",
       "      <td>NaN</td>\n",
       "      <td>NaN</td>\n",
       "      <td>NaN</td>\n",
       "      <td>NaN</td>\n",
       "      <td>NaN</td>\n",
       "    </tr>\n",
       "  </tbody>\n",
       "</table>\n",
       "<p>5 rows × 42 columns</p>\n",
       "</div>"
      ],
      "text/plain": [
       "  UPDATED ENTRY_DATE EVENT_LCL_DATE EVENT_LCL_TIME LOC_CITY_NAME   \n",
       "0      No  19-FEB-16      19-FEB-16      00:45:00Z    MARSHVILLE  \\\n",
       "1      No  19-FEB-16      18-FEB-16      23:55:00Z     TAVERNIER   \n",
       "2      No  19-FEB-16      18-FEB-16      22:14:00Z       TRENTON   \n",
       "3      No  19-FEB-16      18-FEB-16      17:10:00Z     ASHEVILLE   \n",
       "4      No  19-FEB-16      18-FEB-16      00:26:00Z     TALKEETNA   \n",
       "\n",
       "   LOC_STATE_NAME LOC_CNTRY_NAME   \n",
       "0  North Carolina            NaN  \\\n",
       "1         Florida            NaN   \n",
       "2      New Jersey            NaN   \n",
       "3  North Carolina            NaN   \n",
       "4          Alaska            NaN   \n",
       "\n",
       "                                            RMK_TEXT EVENT_TYPE_DESC   \n",
       "0  AIRCRAFT CRASHED INTO TREES, THE 1 PERSON ON B...        Accident  \\\n",
       "1  AIRCRAFT ON LANDING WENT OFF THE END OF THE RU...        Incident   \n",
       "2  AIRCRAFT ON FINAL SUSTAINED A BIRD STRIKE, LAN...        Incident   \n",
       "3  AIRCRAFT ON LANDING, GEAR COLLAPSED, ASHEVILLE...        Incident   \n",
       "4  AIRCRAFT ON LANDING, NOSE GEAR COLLAPSED, TALK...        Incident   \n",
       "\n",
       "                  FSDO_DESC  ... PAX_INJ_NONE PAX_INJ_MINOR PAX_INJ_SERIOUS   \n",
       "0     FAA Charlotte FSDO-68  ...          NaN           NaN             NaN  \\\n",
       "1         FAA Miami FSDO-19  ...          NaN           NaN             NaN   \n",
       "2  FAA Philadelphia FSDO-17  ...          NaN           NaN             NaN   \n",
       "3     FAA Charlotte FSDO-68  ...          NaN           NaN             NaN   \n",
       "4     FAA Anchorage FSDO-03  ...          NaN           1.0             NaN   \n",
       "\n",
       "  PAX_INJ_FATAL PAX_INJ_UNK  GRND_INJ_NONE GRND_INJ_MINOR GRND_INJ_SERIOUS   \n",
       "0           NaN         NaN            NaN            NaN              NaN  \\\n",
       "1           NaN         NaN            NaN            NaN              NaN   \n",
       "2           NaN         NaN            NaN            NaN              NaN   \n",
       "3           NaN         NaN            NaN            NaN              NaN   \n",
       "4           NaN         NaN            NaN            NaN              NaN   \n",
       "\n",
       "  GRND_INJ_FATAL  GRND_INJ_UNK  \n",
       "0            NaN           NaN  \n",
       "1            NaN           NaN  \n",
       "2            NaN           NaN  \n",
       "3            NaN           NaN  \n",
       "4            NaN           NaN  \n",
       "\n",
       "[5 rows x 42 columns]"
      ]
     },
     "execution_count": 10,
     "metadata": {},
     "output_type": "execute_result"
    }
   ],
   "source": [
    "# load csv data as a dataframe \n",
    "df_fed = pd.read_csv('faa_ai_prelim.csv')\n",
    "df_fed.head()"
   ]
  },
  {
   "cell_type": "code",
   "execution_count": 21,
   "id": "42cac18b",
   "metadata": {},
   "outputs": [
    {
     "data": {
      "text/plain": [
       "Index(['UPDATED', 'ENTRY_DATE', 'EVENT_LCL_DATE', 'EVENT_LCL_TIME',\n",
       "       'LOC_CITY_NAME', 'LOC_STATE_NAME', 'LOC_CNTRY_NAME', 'RMK_TEXT',\n",
       "       'EVENT_TYPE_DESC', 'FSDO_DESC', 'REGIST_NBR', 'FLT_NBR', 'ACFT_OPRTR',\n",
       "       'ACFT_MAKE_NAME', 'ACFT_MODEL_NAME', 'ACFT_MISSING_FLAG',\n",
       "       'ACFT_DMG_DESC', 'FLT_ACTIVITY', 'FLT_PHASE', 'FAR_PART', 'MAX_INJ_LVL',\n",
       "       'FATAL_FLAG', 'FLT_CRW_INJ_NONE', 'FLT_CRW_INJ_MINOR',\n",
       "       'FLT_CRW_INJ_SERIOUS', 'FLT_CRW_INJ_FATAL', 'FLT_CRW_INJ_UNK',\n",
       "       'CBN_CRW_INJ_NONE', 'CBN_CRW_INJ_MINOR', 'CBN_CRW_INJ_SERIOUS',\n",
       "       'CBN_CRW_INJ_FATAL', 'CBN_CRW_INJ_UNK', 'PAX_INJ_NONE', 'PAX_INJ_MINOR',\n",
       "       'PAX_INJ_SERIOUS', 'PAX_INJ_FATAL', 'PAX_INJ_UNK', 'GRND_INJ_NONE',\n",
       "       'GRND_INJ_MINOR', 'GRND_INJ_SERIOUS', 'GRND_INJ_FATAL', 'GRND_INJ_UNK'],\n",
       "      dtype='object')"
      ]
     },
     "execution_count": 21,
     "metadata": {},
     "output_type": "execute_result"
    }
   ],
   "source": [
    "# columns are attributes, charactertics of df\n",
    "# head is a function, you're performing an action\n",
    "list1 = df_fed.columns\n",
    "list1"
   ]
  },
  {
   "cell_type": "code",
   "execution_count": 13,
   "id": "6e960f0f",
   "metadata": {},
   "outputs": [
    {
     "data": {
      "text/plain": [
       "(83, 42)"
      ]
     },
     "execution_count": 13,
     "metadata": {},
     "output_type": "execute_result"
    }
   ],
   "source": [
    "df_fed.shape"
   ]
  },
  {
   "cell_type": "code",
   "execution_count": 14,
   "id": "44b6bb09",
   "metadata": {},
   "outputs": [
    {
     "data": {
      "text/html": [
       "<div>\n",
       "<style scoped>\n",
       "    .dataframe tbody tr th:only-of-type {\n",
       "        vertical-align: middle;\n",
       "    }\n",
       "\n",
       "    .dataframe tbody tr th {\n",
       "        vertical-align: top;\n",
       "    }\n",
       "\n",
       "    .dataframe thead th {\n",
       "        text-align: right;\n",
       "    }\n",
       "</style>\n",
       "<table border=\"1\" class=\"dataframe\">\n",
       "  <thead>\n",
       "    <tr style=\"text-align: right;\">\n",
       "      <th></th>\n",
       "      <th>UPDATED</th>\n",
       "      <th>ENTRY_DATE</th>\n",
       "      <th>EVENT_LCL_DATE</th>\n",
       "      <th>EVENT_LCL_TIME</th>\n",
       "      <th>LOC_CITY_NAME</th>\n",
       "      <th>LOC_STATE_NAME</th>\n",
       "    </tr>\n",
       "  </thead>\n",
       "  <tbody>\n",
       "    <tr>\n",
       "      <th>0</th>\n",
       "      <td>No</td>\n",
       "      <td>19-FEB-16</td>\n",
       "      <td>19-FEB-16</td>\n",
       "      <td>00:45:00Z</td>\n",
       "      <td>MARSHVILLE</td>\n",
       "      <td>North Carolina</td>\n",
       "    </tr>\n",
       "    <tr>\n",
       "      <th>1</th>\n",
       "      <td>No</td>\n",
       "      <td>19-FEB-16</td>\n",
       "      <td>18-FEB-16</td>\n",
       "      <td>23:55:00Z</td>\n",
       "      <td>TAVERNIER</td>\n",
       "      <td>Florida</td>\n",
       "    </tr>\n",
       "    <tr>\n",
       "      <th>2</th>\n",
       "      <td>No</td>\n",
       "      <td>19-FEB-16</td>\n",
       "      <td>18-FEB-16</td>\n",
       "      <td>22:14:00Z</td>\n",
       "      <td>TRENTON</td>\n",
       "      <td>New Jersey</td>\n",
       "    </tr>\n",
       "    <tr>\n",
       "      <th>3</th>\n",
       "      <td>No</td>\n",
       "      <td>19-FEB-16</td>\n",
       "      <td>18-FEB-16</td>\n",
       "      <td>17:10:00Z</td>\n",
       "      <td>ASHEVILLE</td>\n",
       "      <td>North Carolina</td>\n",
       "    </tr>\n",
       "    <tr>\n",
       "      <th>4</th>\n",
       "      <td>No</td>\n",
       "      <td>19-FEB-16</td>\n",
       "      <td>18-FEB-16</td>\n",
       "      <td>00:26:00Z</td>\n",
       "      <td>TALKEETNA</td>\n",
       "      <td>Alaska</td>\n",
       "    </tr>\n",
       "    <tr>\n",
       "      <th>...</th>\n",
       "      <td>...</td>\n",
       "      <td>...</td>\n",
       "      <td>...</td>\n",
       "      <td>...</td>\n",
       "      <td>...</td>\n",
       "      <td>...</td>\n",
       "    </tr>\n",
       "    <tr>\n",
       "      <th>78</th>\n",
       "      <td>No</td>\n",
       "      <td>08-FEB-16</td>\n",
       "      <td>31-DEC-15</td>\n",
       "      <td>17:00:00Z</td>\n",
       "      <td>SAN ANTONIO</td>\n",
       "      <td>Texas</td>\n",
       "    </tr>\n",
       "    <tr>\n",
       "      <th>79</th>\n",
       "      <td>No</td>\n",
       "      <td>08-FEB-16</td>\n",
       "      <td>05-FEB-16</td>\n",
       "      <td>11:17:00Z</td>\n",
       "      <td>MARICOPA</td>\n",
       "      <td>Arizona</td>\n",
       "    </tr>\n",
       "    <tr>\n",
       "      <th>80</th>\n",
       "      <td>No</td>\n",
       "      <td>08-FEB-16</td>\n",
       "      <td>05-FEB-16</td>\n",
       "      <td>23:02:00Z</td>\n",
       "      <td>SAN PEDRO</td>\n",
       "      <td>California</td>\n",
       "    </tr>\n",
       "    <tr>\n",
       "      <th>81</th>\n",
       "      <td>No</td>\n",
       "      <td>08-FEB-16</td>\n",
       "      <td>05-FEB-16</td>\n",
       "      <td>23:02:00Z</td>\n",
       "      <td>SAN PEDRO</td>\n",
       "      <td>California</td>\n",
       "    </tr>\n",
       "    <tr>\n",
       "      <th>82</th>\n",
       "      <td>Yes</td>\n",
       "      <td>02-FEB-16</td>\n",
       "      <td>02-FEB-16</td>\n",
       "      <td>01:52:00Z</td>\n",
       "      <td>MOBILE</td>\n",
       "      <td>Alabama</td>\n",
       "    </tr>\n",
       "  </tbody>\n",
       "</table>\n",
       "<p>83 rows × 6 columns</p>\n",
       "</div>"
      ],
      "text/plain": [
       "   UPDATED ENTRY_DATE EVENT_LCL_DATE EVENT_LCL_TIME LOC_CITY_NAME   \n",
       "0       No  19-FEB-16      19-FEB-16      00:45:00Z    MARSHVILLE  \\\n",
       "1       No  19-FEB-16      18-FEB-16      23:55:00Z     TAVERNIER   \n",
       "2       No  19-FEB-16      18-FEB-16      22:14:00Z       TRENTON   \n",
       "3       No  19-FEB-16      18-FEB-16      17:10:00Z     ASHEVILLE   \n",
       "4       No  19-FEB-16      18-FEB-16      00:26:00Z     TALKEETNA   \n",
       "..     ...        ...            ...            ...           ...   \n",
       "78      No  08-FEB-16      31-DEC-15      17:00:00Z   SAN ANTONIO   \n",
       "79      No  08-FEB-16      05-FEB-16      11:17:00Z      MARICOPA   \n",
       "80      No  08-FEB-16      05-FEB-16      23:02:00Z     SAN PEDRO   \n",
       "81      No  08-FEB-16      05-FEB-16      23:02:00Z     SAN PEDRO   \n",
       "82     Yes  02-FEB-16      02-FEB-16      01:52:00Z        MOBILE   \n",
       "\n",
       "    LOC_STATE_NAME  \n",
       "0   North Carolina  \n",
       "1          Florida  \n",
       "2       New Jersey  \n",
       "3   North Carolina  \n",
       "4           Alaska  \n",
       "..             ...  \n",
       "78           Texas  \n",
       "79         Arizona  \n",
       "80      California  \n",
       "81      California  \n",
       "82         Alabama  \n",
       "\n",
       "[83 rows x 6 columns]"
      ]
     },
     "execution_count": 14,
     "metadata": {},
     "output_type": "execute_result"
    }
   ],
   "source": [
    "df_fed[['UPDATED', 'ENTRY_DATE', 'EVENT_LCL_DATE', 'EVENT_LCL_TIME',\n",
    "       'LOC_CITY_NAME', 'LOC_STATE_NAME']]"
   ]
  },
  {
   "cell_type": "code",
   "execution_count": 24,
   "id": "0e69c409",
   "metadata": {},
   "outputs": [
    {
     "data": {
      "text/html": [
       "<div>\n",
       "<style scoped>\n",
       "    .dataframe tbody tr th:only-of-type {\n",
       "        vertical-align: middle;\n",
       "    }\n",
       "\n",
       "    .dataframe tbody tr th {\n",
       "        vertical-align: top;\n",
       "    }\n",
       "\n",
       "    .dataframe thead th {\n",
       "        text-align: right;\n",
       "    }\n",
       "</style>\n",
       "<table border=\"1\" class=\"dataframe\">\n",
       "  <thead>\n",
       "    <tr style=\"text-align: right;\">\n",
       "      <th></th>\n",
       "      <th>ACFT_MISSING_FLAG</th>\n",
       "      <th>ACFT_DMG_DESC</th>\n",
       "      <th>FLT_ACTIVITY</th>\n",
       "      <th>FLT_PHASE</th>\n",
       "      <th>FAR_PART</th>\n",
       "      <th>MAX_INJ_LVL</th>\n",
       "    </tr>\n",
       "  </thead>\n",
       "  <tbody>\n",
       "    <tr>\n",
       "      <th>0</th>\n",
       "      <td>NaN</td>\n",
       "      <td>Unknown</td>\n",
       "      <td>NaN</td>\n",
       "      <td>UNKNOWN (UNK)</td>\n",
       "      <td>NaN</td>\n",
       "      <td>Fatal</td>\n",
       "    </tr>\n",
       "    <tr>\n",
       "      <th>1</th>\n",
       "      <td>NaN</td>\n",
       "      <td>Unknown</td>\n",
       "      <td>NaN</td>\n",
       "      <td>LANDING (LDG)</td>\n",
       "      <td>NaN</td>\n",
       "      <td>NaN</td>\n",
       "    </tr>\n",
       "    <tr>\n",
       "      <th>2</th>\n",
       "      <td>NaN</td>\n",
       "      <td>Minor</td>\n",
       "      <td>NaN</td>\n",
       "      <td>APPROACH (APR)</td>\n",
       "      <td>NaN</td>\n",
       "      <td>NaN</td>\n",
       "    </tr>\n",
       "    <tr>\n",
       "      <th>3</th>\n",
       "      <td>NaN</td>\n",
       "      <td>Unknown</td>\n",
       "      <td>NaN</td>\n",
       "      <td>LANDING (LDG)</td>\n",
       "      <td>NaN</td>\n",
       "      <td>NaN</td>\n",
       "    </tr>\n",
       "    <tr>\n",
       "      <th>4</th>\n",
       "      <td>NaN</td>\n",
       "      <td>Minor</td>\n",
       "      <td>NaN</td>\n",
       "      <td>LANDING (LDG)</td>\n",
       "      <td>NaN</td>\n",
       "      <td>Minor</td>\n",
       "    </tr>\n",
       "    <tr>\n",
       "      <th>...</th>\n",
       "      <td>...</td>\n",
       "      <td>...</td>\n",
       "      <td>...</td>\n",
       "      <td>...</td>\n",
       "      <td>...</td>\n",
       "      <td>...</td>\n",
       "    </tr>\n",
       "    <tr>\n",
       "      <th>78</th>\n",
       "      <td>NaN</td>\n",
       "      <td>Substantial</td>\n",
       "      <td>NaN</td>\n",
       "      <td>LANDING (LDG)</td>\n",
       "      <td>NaN</td>\n",
       "      <td>NaN</td>\n",
       "    </tr>\n",
       "    <tr>\n",
       "      <th>79</th>\n",
       "      <td>NaN</td>\n",
       "      <td>Destroyed</td>\n",
       "      <td>NaN</td>\n",
       "      <td>UNKNOWN (UNK)</td>\n",
       "      <td>NaN</td>\n",
       "      <td>Fatal</td>\n",
       "    </tr>\n",
       "    <tr>\n",
       "      <th>80</th>\n",
       "      <td>NaN</td>\n",
       "      <td>Destroyed</td>\n",
       "      <td>NaN</td>\n",
       "      <td>UNKNOWN (UNK)</td>\n",
       "      <td>NaN</td>\n",
       "      <td>Fatal</td>\n",
       "    </tr>\n",
       "    <tr>\n",
       "      <th>81</th>\n",
       "      <td>NaN</td>\n",
       "      <td>Destroyed</td>\n",
       "      <td>NaN</td>\n",
       "      <td>UNKNOWN (UNK)</td>\n",
       "      <td>NaN</td>\n",
       "      <td>Fatal</td>\n",
       "    </tr>\n",
       "    <tr>\n",
       "      <th>82</th>\n",
       "      <td>NaN</td>\n",
       "      <td>Unknown</td>\n",
       "      <td>NaN</td>\n",
       "      <td>UNKNOWN (UNK)</td>\n",
       "      <td>NaN</td>\n",
       "      <td>Fatal</td>\n",
       "    </tr>\n",
       "  </tbody>\n",
       "</table>\n",
       "<p>83 rows × 6 columns</p>\n",
       "</div>"
      ],
      "text/plain": [
       "    ACFT_MISSING_FLAG ACFT_DMG_DESC FLT_ACTIVITY       FLT_PHASE  FAR_PART   \n",
       "0                 NaN       Unknown          NaN   UNKNOWN (UNK)       NaN  \\\n",
       "1                 NaN       Unknown          NaN   LANDING (LDG)       NaN   \n",
       "2                 NaN         Minor          NaN  APPROACH (APR)       NaN   \n",
       "3                 NaN       Unknown          NaN   LANDING (LDG)       NaN   \n",
       "4                 NaN         Minor          NaN   LANDING (LDG)       NaN   \n",
       "..                ...           ...          ...             ...       ...   \n",
       "78                NaN   Substantial          NaN   LANDING (LDG)       NaN   \n",
       "79                NaN     Destroyed          NaN   UNKNOWN (UNK)       NaN   \n",
       "80                NaN     Destroyed          NaN   UNKNOWN (UNK)       NaN   \n",
       "81                NaN     Destroyed          NaN   UNKNOWN (UNK)       NaN   \n",
       "82                NaN       Unknown          NaN   UNKNOWN (UNK)       NaN   \n",
       "\n",
       "   MAX_INJ_LVL  \n",
       "0        Fatal  \n",
       "1          NaN  \n",
       "2          NaN  \n",
       "3          NaN  \n",
       "4        Minor  \n",
       "..         ...  \n",
       "78         NaN  \n",
       "79       Fatal  \n",
       "80       Fatal  \n",
       "81       Fatal  \n",
       "82       Fatal  \n",
       "\n",
       "[83 rows x 6 columns]"
      ]
     },
     "execution_count": 24,
     "metadata": {},
     "output_type": "execute_result"
    }
   ],
   "source": [
    "# want columns from 15 to 20\n",
    "df_fed[list1[15:21]]"
   ]
  },
  {
   "cell_type": "markdown",
   "id": "3b1718dc",
   "metadata": {},
   "source": []
  },
  {
   "cell_type": "code",
   "execution_count": null,
   "id": "7ccd0555",
   "metadata": {},
   "outputs": [],
   "source": []
  }
 ],
 "metadata": {
  "kernelspec": {
   "display_name": "Python 3 (ipykernel)",
   "language": "python",
   "name": "python3"
  },
  "language_info": {
   "codemirror_mode": {
    "name": "ipython",
    "version": 3
   },
   "file_extension": ".py",
   "mimetype": "text/x-python",
   "name": "python",
   "nbconvert_exporter": "python",
   "pygments_lexer": "ipython3",
   "version": "3.11.2"
  }
 },
 "nbformat": 4,
 "nbformat_minor": 5
}
